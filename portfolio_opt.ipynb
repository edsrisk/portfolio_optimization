{
  "nbformat": 4,
  "nbformat_minor": 0,
  "metadata": {
    "colab": {
      "name": "Untitled0.ipynb",
      "provenance": [],
      "collapsed_sections": [],
      "authorship_tag": "ABX9TyM9BbkXacPIb52ZW3gfdjjv",
      "include_colab_link": true
    },
    "kernelspec": {
      "name": "python3",
      "display_name": "Python 3"
    },
    "language_info": {
      "name": "python"
    }
  },
  "cells": [
    {
      "cell_type": "markdown",
      "metadata": {
        "id": "view-in-github",
        "colab_type": "text"
      },
      "source": [
        "<a href=\"https://colab.research.google.com/github/edsrisk/portfolio_optimization/blob/main/portfolio_opt.ipynb\" target=\"_parent\"><img src=\"https://colab.research.google.com/assets/colab-badge.svg\" alt=\"Open In Colab\"/></a>"
      ]
    },
    {
      "cell_type": "code",
      "metadata": {
        "id": "I-ZoxOpI7SUy"
      },
      "source": [
        "# Import libraries and dependencies\n",
        "from pandas_datareader import data as web\n",
        "import pandas as pd\n",
        "import numpy as np\n",
        "from datetime import datetime\n",
        "import matplotlib.pyplot as plt\n",
        "plt.style.use('fivethirtyeight')\n",
        "from pathlib import Path\n",
        "from google.colab import drive\n",
        "drive.mount('/content/drive')"
      ],
      "execution_count": null,
      "outputs": []
    },
    {
      "cell_type": "code",
      "metadata": {
        "id": "bB5M2Eyq7Xd4",
        "colab": {
          "resources": {
            "http://localhost:8080/nbextensions/google.colab/files.js": {
              "data": "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",
              "ok": true,
              "headers": [
                [
                  "content-type",
                  "application/javascript"
                ]
              ],
              "status": 200,
              "status_text": ""
            }
          },
          "base_uri": "https://localhost:8080/",
          "height": 109
        },
        "outputId": "a044ae88-f623-420c-9468-6d473628a92b"
      },
      "source": [
        "from google.colab import files\n",
        "files.upload()\n"
      ],
      "execution_count": 7,
      "outputs": [
        {
          "output_type": "display_data",
          "data": {
            "text/html": [
              "\n",
              "     <input type=\"file\" id=\"files-c39c166d-7315-4892-aba8-ff321a8d3c76\" name=\"files[]\" multiple disabled\n",
              "        style=\"border:none\" />\n",
              "     <output id=\"result-c39c166d-7315-4892-aba8-ff321a8d3c76\">\n",
              "      Upload widget is only available when the cell has been executed in the\n",
              "      current browser session. Please rerun this cell to enable.\n",
              "      </output>\n",
              "      <script src=\"/nbextensions/google.colab/files.js\"></script> "
            ],
            "text/plain": [
              "<IPython.core.display.HTML object>"
            ]
          },
          "metadata": {
            "tags": []
          }
        },
        {
          "output_type": "stream",
          "text": [
            "Saving portfolio_data.csv to portfolio_data.csv\n"
          ],
          "name": "stdout"
        },
        {
          "output_type": "execute_result",
          "data": {
            "text/plain": [
              "{'portfolio_data.csv': b'Date,BP,GS,HD,HP,MMM,NEU,UNH\\r\\n4/1/2021,24.290878,326.537201,306.144653,28.190351,191.292313,380.847137,365.730499\\r\\n4/5/2021,23.974642,322.450989,313.75473,26.614309,193.545746,386.46524,368.829132\\r\\n4/6/2021,24.804762,325.959137,312.143188,26.653957,193.416687,386.355835,363.040344\\r\\n4/7/2021,25.071587,325.450836,310.840027,27.28834,193.525879,382.060272,364.305725\\r\\n4/8/2021,24.42923,330.025421,312.789795,26.663868,194.290268,380.966461,363.558472\\r\\n4/9/2021,24.103111,329.696503,317.564758,25.593349,196.553604,384.058899,374.926788\\r\\n4/12/2021,24.330408,330.723053,319.116638,25.702385,196.384842,383.61145,374.906891\\r\\n4/13/2021,24.330408,326.577057,318.728668,25.841154,195.03479,380.330078,373.133392\\r\\n4/14/2021,25.239586,334.221252,318.350616,26.862114,195.312729,382.636963,374.259277\\r\\n4/15/2021,24.903585,337.410461,321.056458,26.544924,196.037399,382.139801,388.586792\\r\\n4/16/2021,24.883821,341.157806,326.368591,26.406151,197.129364,385.500702,389.58316\\r\\n4/19/2021,25.012291,341.935181,325.14502,26.138523,197.139297,385.212341,388.417389\\r\\n4/20/2021,24.488525,330.762909,322.270081,25.276159,196.85141,382.279022,395.082977\\r\\n4/21/2021,24.666407,334.141479,324.249725,25.543789,199.412567,381.642609,397.354675\\r\\n4/22/2021,24.053701,329.736389,319.783112,25.038265,199.432419,355.640289,395.092957\\r\\n4/23/2021,24.231585,338.207764,322.20047,25.048178,200.722916,354.218384,398.849182\\r\\n4/26/2021,24.626879,342.363708,318.320801,25.295984,198.171707,357.290924,394.415436\\r\\n4/27/2021,24.646645,345.463257,318.917664,25.068003,193.029541,348.948303,393.060394\\r\\n4/28/2021,25.338409,346.938263,318.042236,26.792728,194.498718,347.79483,393.150055\\r\\n4/29/2021,25.200056,351.781921,323.642883,27.873161,197.595932,348.848846,400.084656\\r\\n4/30/2021,24.864056,347.277161,321.981628,25.405016,195.69989,344.632813,397.344696\\r\\n5/3/2021,25.387821,348.981384,328.54715,26.049313,197.159149,347.019257,404.418793\\r\\n5/4/2021,25.615116,348.662445,331.034119,26.653957,197.923523,349.216797,409.838959\\r\\n5/5/2021,26.465,356.41626,330.317871,27.922722,199.968475,346.124329,410.99472\\r\\n5/6/2021,26.5,364.738159,335.819031,28.150702,200.931396,347.417023,413.455688\\r\\n5/7/2021,26.73,369.641632,337.480316,29.954725,201.586578,350.569092,416.125916\\r\\n5/10/2021,26.620001,367.439026,339.340576,29.429379,205.815445,348.978119,419.354126\\r\\n5/11/2021,25.969999,358.708557,328.93515,28.576927,202.231827,348.003662,410.197632\\r\\n5/12/2021,26.190001,353.207092,315.346405,28.99324,197.417252,343.708069,403.890717\\r\\n5/13/2021,25.889999,357.602264,323.722473,28.23,201.924088,355.282318,407.069092\\r\\n5/14/2021,26.65,367.528748,321.941803,29.35,202.887009,350.777893,408.304565\\r\\n5/17/2021,27.08,368.007141,318.340698,30.709999,203.611664,352.63736,407.138855\\r\\n5/18/2021,26.860001,363.332916,315.097687,29.77,201.54686,347.804779,408.882446\\r\\n5/19/2021,26.18,357.173737,312.809723,28.799999,201.12001,343.081604,408.005676\\r\\n5/20/2021,26.52,358.569,314.252136,28.719999,201.649994,342.753479,407.148804\\r\\n5/21/2021,26.52,365.027191,314.122803,28.9,201.860001,343.002075,410.127899\\r\\n5/24/2021,27.02,367.050354,313.197662,28.629999,202.610001,339.442291,409.450378\\r\\n5/25/2021,26.280001,363.283081,315.097687,27.57,201.710007,336.558655,411.542694\\r\\n5/26/2021,26.309999,366.163361,315.674652,28.120001,201.580002,340.734955,411.702118\\r\\n5/27/2021,26.280001,370.119995,317.107147,28.85,203.240005,336.538788,411.194\\r\\n5/28/2021,26.23,372.019989,317.246429,28.25,203.039993,341.291779,410.41684\\r\\n6/1/2021,27.02,382.440002,314.660004,30.059999,203.199997,347.546234,405.235809\\r\\n6/2/2021,27.629999,383.440002,313.230011,32.349998,203.289993,339.243439,404.368988\\r\\n6/3/2021,27.76,388.720001,311.429993,33.029999,203.669998,342.723663,406.471283\\r\\n6/4/2021,27.440001,391.450012,311.01001,33.490002,206.050003,342.475067,404.15976\\r\\n6/7/2021,27.26,388.160004,309.959991,32.5,203.729996,332.85968,398.789429\\r\\n6/8/2021,27.73,384.700012,310.899994,32.889999,203.589996,333.605438,400.273956\\r\\n6/9/2021,27.59,382.779999,307.339996,32.880001,202.740005,335.096954,399.636322\\r\\n6/10/2021,27.51,373.940002,308.309998,32.66,203.130005,333.873901,400.024872\\r\\n6/11/2021,27.540001,378.049988,310.769989,32.98,202.809998,334.559998,396.438049\\r\\n6/14/2021,28.040001,372.920013,309.320007,33.119999,201.360001,330.679993,397.7034\\r\\n6/15/2021,28.379999,371.299988,306.450012,34.540001,200.610001,331.690002,398.819305\\r\\n6/16/2021,27.93,371,302.779999,34.790001,196.910004,321.970001,395.800354\\r\\n6/17/2021,27.18,361.5,303.119995,32.040001,195.139999,312.299988,395.899994\\r\\n6/18/2021,26.1,348.829987,302.609985,31.809999,191.600006,306.920013,389.369995\\r\\n6/21/2021,26.940001,357.540009,307.600006,33.18,195.210007,313.98999,398.070007\\r\\n6/22/2021,27.15,357.529999,312.709991,33.560001,195.139999,315.149994,398.690002\\r\\n6/23/2021,27.23,361.049988,311.670013,33.619999,192.360001,315.070007,395.559998\\r\\n6/24/2021,27.32,368.75,311.839996,34.23,193.259995,318,398.869995\\r\\n6/25/2021,27.32,368.769989,313.630005,33.450001,194.75,330.980011,404.950012\\r\\n6/28/2021,26.459999,368.709991,314.279999,32.560001,196.5,321.299988,401.459991\\r\\n6/29/2021,26.27,372.619995,318.23999,32.490002,196.029999,321,398.100006\\r\\n'}"
            ]
          },
          "metadata": {
            "tags": []
          },
          "execution_count": 7
        }
      ]
    },
    {
      "cell_type": "code",
      "metadata": {
        "colab": {
          "base_uri": "https://localhost:8080/",
          "height": 235
        },
        "id": "vJhfC18a7c3r",
        "outputId": "9166450a-f6a1-458a-e93f-9e4c6b0efd13"
      },
      "source": [
        "# Access datafile\n",
        "portfolio_df = pd.read_csv('portfolio_data.csv', index_col=0)\n",
        "portfolio_df.head()"
      ],
      "execution_count": 8,
      "outputs": [
        {
          "output_type": "execute_result",
          "data": {
            "text/html": [
              "<div>\n",
              "<style scoped>\n",
              "    .dataframe tbody tr th:only-of-type {\n",
              "        vertical-align: middle;\n",
              "    }\n",
              "\n",
              "    .dataframe tbody tr th {\n",
              "        vertical-align: top;\n",
              "    }\n",
              "\n",
              "    .dataframe thead th {\n",
              "        text-align: right;\n",
              "    }\n",
              "</style>\n",
              "<table border=\"1\" class=\"dataframe\">\n",
              "  <thead>\n",
              "    <tr style=\"text-align: right;\">\n",
              "      <th></th>\n",
              "      <th>BP</th>\n",
              "      <th>GS</th>\n",
              "      <th>HD</th>\n",
              "      <th>HP</th>\n",
              "      <th>MMM</th>\n",
              "      <th>NEU</th>\n",
              "      <th>UNH</th>\n",
              "    </tr>\n",
              "    <tr>\n",
              "      <th>Date</th>\n",
              "      <th></th>\n",
              "      <th></th>\n",
              "      <th></th>\n",
              "      <th></th>\n",
              "      <th></th>\n",
              "      <th></th>\n",
              "      <th></th>\n",
              "    </tr>\n",
              "  </thead>\n",
              "  <tbody>\n",
              "    <tr>\n",
              "      <th>4/1/2021</th>\n",
              "      <td>24.290878</td>\n",
              "      <td>326.537201</td>\n",
              "      <td>306.144653</td>\n",
              "      <td>28.190351</td>\n",
              "      <td>191.292313</td>\n",
              "      <td>380.847137</td>\n",
              "      <td>365.730499</td>\n",
              "    </tr>\n",
              "    <tr>\n",
              "      <th>4/5/2021</th>\n",
              "      <td>23.974642</td>\n",
              "      <td>322.450989</td>\n",
              "      <td>313.754730</td>\n",
              "      <td>26.614309</td>\n",
              "      <td>193.545746</td>\n",
              "      <td>386.465240</td>\n",
              "      <td>368.829132</td>\n",
              "    </tr>\n",
              "    <tr>\n",
              "      <th>4/6/2021</th>\n",
              "      <td>24.804762</td>\n",
              "      <td>325.959137</td>\n",
              "      <td>312.143188</td>\n",
              "      <td>26.653957</td>\n",
              "      <td>193.416687</td>\n",
              "      <td>386.355835</td>\n",
              "      <td>363.040344</td>\n",
              "    </tr>\n",
              "    <tr>\n",
              "      <th>4/7/2021</th>\n",
              "      <td>25.071587</td>\n",
              "      <td>325.450836</td>\n",
              "      <td>310.840027</td>\n",
              "      <td>27.288340</td>\n",
              "      <td>193.525879</td>\n",
              "      <td>382.060272</td>\n",
              "      <td>364.305725</td>\n",
              "    </tr>\n",
              "    <tr>\n",
              "      <th>4/8/2021</th>\n",
              "      <td>24.429230</td>\n",
              "      <td>330.025421</td>\n",
              "      <td>312.789795</td>\n",
              "      <td>26.663868</td>\n",
              "      <td>194.290268</td>\n",
              "      <td>380.966461</td>\n",
              "      <td>363.558472</td>\n",
              "    </tr>\n",
              "  </tbody>\n",
              "</table>\n",
              "</div>"
            ],
            "text/plain": [
              "                 BP          GS          HD  ...         MMM         NEU         UNH\n",
              "Date                                         ...                                    \n",
              "4/1/2021  24.290878  326.537201  306.144653  ...  191.292313  380.847137  365.730499\n",
              "4/5/2021  23.974642  322.450989  313.754730  ...  193.545746  386.465240  368.829132\n",
              "4/6/2021  24.804762  325.959137  312.143188  ...  193.416687  386.355835  363.040344\n",
              "4/7/2021  25.071587  325.450836  310.840027  ...  193.525879  382.060272  364.305725\n",
              "4/8/2021  24.429230  330.025421  312.789795  ...  194.290268  380.966461  363.558472\n",
              "\n",
              "[5 rows x 7 columns]"
            ]
          },
          "metadata": {
            "tags": []
          },
          "execution_count": 8
        }
      ]
    },
    {
      "cell_type": "code",
      "metadata": {
        "colab": {
          "base_uri": "https://localhost:8080/"
        },
        "id": "IbnqVtS57h4y",
        "outputId": "1df0ccbd-635c-43bd-938f-bfa61553c278"
      },
      "source": [
        "# Assign weights to stocks\n",
        "weights = np.array([0.142587143, 0.142587143, 0.142587143, 0.142587143, 0.142587143, 0.142587143, 0.142587143])\n",
        "weights"
      ],
      "execution_count": 11,
      "outputs": [
        {
          "output_type": "execute_result",
          "data": {
            "text/plain": [
              "array([0.14258714, 0.14258714, 0.14258714, 0.14258714, 0.14258714,\n",
              "       0.14258714, 0.14258714])"
            ]
          },
          "metadata": {
            "tags": []
          },
          "execution_count": 11
        }
      ]
    },
    {
      "cell_type": "code",
      "metadata": {
        "colab": {
          "base_uri": "https://localhost:8080/"
        },
        "id": "-pFRlzoK7kdx",
        "outputId": "7d83a430-61f4-4909-dd87-7d36649bc71c"
      },
      "source": [
        "# checkpoint: make sure all weights add up to 1\n",
        "sum = 0\n",
        "for stock in weights:\n",
        "    sum += stock\n",
        "print(sum)"
      ],
      "execution_count": 12,
      "outputs": [
        {
          "output_type": "stream",
          "text": [
            "0.9981100009999999\n"
          ],
          "name": "stdout"
        }
      ]
    },
    {
      "cell_type": "code",
      "metadata": {
        "id": "dYyPXzIW7n93"
      },
      "source": [
        "# Calculate daily returns\n",
        "stock_returns = portfolio_df.pct_change()"
      ],
      "execution_count": 13,
      "outputs": []
    },
    {
      "cell_type": "code",
      "metadata": {
        "id": "-nMe7KRv7qWM",
        "colab": {
          "base_uri": "https://localhost:8080/",
          "height": 235
        },
        "outputId": "cfe0e848-6745-437d-eb05-393893a279c4"
      },
      "source": [
        "stock_returns.head()"
      ],
      "execution_count": 14,
      "outputs": [
        {
          "output_type": "execute_result",
          "data": {
            "text/html": [
              "<div>\n",
              "<style scoped>\n",
              "    .dataframe tbody tr th:only-of-type {\n",
              "        vertical-align: middle;\n",
              "    }\n",
              "\n",
              "    .dataframe tbody tr th {\n",
              "        vertical-align: top;\n",
              "    }\n",
              "\n",
              "    .dataframe thead th {\n",
              "        text-align: right;\n",
              "    }\n",
              "</style>\n",
              "<table border=\"1\" class=\"dataframe\">\n",
              "  <thead>\n",
              "    <tr style=\"text-align: right;\">\n",
              "      <th></th>\n",
              "      <th>BP</th>\n",
              "      <th>GS</th>\n",
              "      <th>HD</th>\n",
              "      <th>HP</th>\n",
              "      <th>MMM</th>\n",
              "      <th>NEU</th>\n",
              "      <th>UNH</th>\n",
              "    </tr>\n",
              "    <tr>\n",
              "      <th>Date</th>\n",
              "      <th></th>\n",
              "      <th></th>\n",
              "      <th></th>\n",
              "      <th></th>\n",
              "      <th></th>\n",
              "      <th></th>\n",
              "      <th></th>\n",
              "    </tr>\n",
              "  </thead>\n",
              "  <tbody>\n",
              "    <tr>\n",
              "      <th>4/1/2021</th>\n",
              "      <td>NaN</td>\n",
              "      <td>NaN</td>\n",
              "      <td>NaN</td>\n",
              "      <td>NaN</td>\n",
              "      <td>NaN</td>\n",
              "      <td>NaN</td>\n",
              "      <td>NaN</td>\n",
              "    </tr>\n",
              "    <tr>\n",
              "      <th>4/5/2021</th>\n",
              "      <td>-0.013019</td>\n",
              "      <td>-0.012514</td>\n",
              "      <td>0.024858</td>\n",
              "      <td>-0.055907</td>\n",
              "      <td>0.011780</td>\n",
              "      <td>0.014752</td>\n",
              "      <td>0.008472</td>\n",
              "    </tr>\n",
              "    <tr>\n",
              "      <th>4/6/2021</th>\n",
              "      <td>0.034625</td>\n",
              "      <td>0.010880</td>\n",
              "      <td>-0.005136</td>\n",
              "      <td>0.001490</td>\n",
              "      <td>-0.000667</td>\n",
              "      <td>-0.000283</td>\n",
              "      <td>-0.015695</td>\n",
              "    </tr>\n",
              "    <tr>\n",
              "      <th>4/7/2021</th>\n",
              "      <td>0.010757</td>\n",
              "      <td>-0.001559</td>\n",
              "      <td>-0.004175</td>\n",
              "      <td>0.023801</td>\n",
              "      <td>0.000565</td>\n",
              "      <td>-0.011118</td>\n",
              "      <td>0.003486</td>\n",
              "    </tr>\n",
              "    <tr>\n",
              "      <th>4/8/2021</th>\n",
              "      <td>-0.025621</td>\n",
              "      <td>0.014056</td>\n",
              "      <td>0.006273</td>\n",
              "      <td>-0.022884</td>\n",
              "      <td>0.003950</td>\n",
              "      <td>-0.002863</td>\n",
              "      <td>-0.002051</td>\n",
              "    </tr>\n",
              "  </tbody>\n",
              "</table>\n",
              "</div>"
            ],
            "text/plain": [
              "                BP        GS        HD        HP       MMM       NEU       UNH\n",
              "Date                                                                          \n",
              "4/1/2021       NaN       NaN       NaN       NaN       NaN       NaN       NaN\n",
              "4/5/2021 -0.013019 -0.012514  0.024858 -0.055907  0.011780  0.014752  0.008472\n",
              "4/6/2021  0.034625  0.010880 -0.005136  0.001490 -0.000667 -0.000283 -0.015695\n",
              "4/7/2021  0.010757 -0.001559 -0.004175  0.023801  0.000565 -0.011118  0.003486\n",
              "4/8/2021 -0.025621  0.014056  0.006273 -0.022884  0.003950 -0.002863 -0.002051"
            ]
          },
          "metadata": {
            "tags": []
          },
          "execution_count": 14
        }
      ]
    },
    {
      "cell_type": "code",
      "metadata": {
        "colab": {
          "base_uri": "https://localhost:8080/",
          "height": 266
        },
        "id": "sGiqcv7y7tbd",
        "outputId": "ef23f96a-558c-464f-b3ee-a6eb73e29d6c"
      },
      "source": [
        "# Calculate the annualized covariance matrix\n",
        "port_cov = stock_returns.cov() * 252\n",
        "port_cov"
      ],
      "execution_count": 15,
      "outputs": [
        {
          "output_type": "execute_result",
          "data": {
            "text/html": [
              "<div>\n",
              "<style scoped>\n",
              "    .dataframe tbody tr th:only-of-type {\n",
              "        vertical-align: middle;\n",
              "    }\n",
              "\n",
              "    .dataframe tbody tr th {\n",
              "        vertical-align: top;\n",
              "    }\n",
              "\n",
              "    .dataframe thead th {\n",
              "        text-align: right;\n",
              "    }\n",
              "</style>\n",
              "<table border=\"1\" class=\"dataframe\">\n",
              "  <thead>\n",
              "    <tr style=\"text-align: right;\">\n",
              "      <th></th>\n",
              "      <th>BP</th>\n",
              "      <th>GS</th>\n",
              "      <th>HD</th>\n",
              "      <th>HP</th>\n",
              "      <th>MMM</th>\n",
              "      <th>NEU</th>\n",
              "      <th>UNH</th>\n",
              "    </tr>\n",
              "  </thead>\n",
              "  <tbody>\n",
              "    <tr>\n",
              "      <th>BP</th>\n",
              "      <td>0.080086</td>\n",
              "      <td>0.038120</td>\n",
              "      <td>-0.000710</td>\n",
              "      <td>0.105238</td>\n",
              "      <td>0.008790</td>\n",
              "      <td>0.023773</td>\n",
              "      <td>0.003054</td>\n",
              "    </tr>\n",
              "    <tr>\n",
              "      <th>GS</th>\n",
              "      <td>0.038120</td>\n",
              "      <td>0.054952</td>\n",
              "      <td>0.014387</td>\n",
              "      <td>0.066179</td>\n",
              "      <td>0.015933</td>\n",
              "      <td>0.023774</td>\n",
              "      <td>0.008257</td>\n",
              "    </tr>\n",
              "    <tr>\n",
              "      <th>HD</th>\n",
              "      <td>-0.000710</td>\n",
              "      <td>0.014387</td>\n",
              "      <td>0.033892</td>\n",
              "      <td>-0.006335</td>\n",
              "      <td>0.018701</td>\n",
              "      <td>0.019425</td>\n",
              "      <td>0.017980</td>\n",
              "    </tr>\n",
              "    <tr>\n",
              "      <th>HP</th>\n",
              "      <td>0.105238</td>\n",
              "      <td>0.066179</td>\n",
              "      <td>-0.006335</td>\n",
              "      <td>0.273184</td>\n",
              "      <td>0.016043</td>\n",
              "      <td>0.026323</td>\n",
              "      <td>0.002059</td>\n",
              "    </tr>\n",
              "    <tr>\n",
              "      <th>MMM</th>\n",
              "      <td>0.008790</td>\n",
              "      <td>0.015933</td>\n",
              "      <td>0.018701</td>\n",
              "      <td>0.016043</td>\n",
              "      <td>0.025005</td>\n",
              "      <td>0.017243</td>\n",
              "      <td>0.015668</td>\n",
              "    </tr>\n",
              "    <tr>\n",
              "      <th>NEU</th>\n",
              "      <td>0.023773</td>\n",
              "      <td>0.023774</td>\n",
              "      <td>0.019425</td>\n",
              "      <td>0.026323</td>\n",
              "      <td>0.017243</td>\n",
              "      <td>0.065940</td>\n",
              "      <td>0.015819</td>\n",
              "    </tr>\n",
              "    <tr>\n",
              "      <th>UNH</th>\n",
              "      <td>0.003054</td>\n",
              "      <td>0.008257</td>\n",
              "      <td>0.017980</td>\n",
              "      <td>0.002059</td>\n",
              "      <td>0.015668</td>\n",
              "      <td>0.015819</td>\n",
              "      <td>0.029591</td>\n",
              "    </tr>\n",
              "  </tbody>\n",
              "</table>\n",
              "</div>"
            ],
            "text/plain": [
              "           BP        GS        HD        HP       MMM       NEU       UNH\n",
              "BP   0.080086  0.038120 -0.000710  0.105238  0.008790  0.023773  0.003054\n",
              "GS   0.038120  0.054952  0.014387  0.066179  0.015933  0.023774  0.008257\n",
              "HD  -0.000710  0.014387  0.033892 -0.006335  0.018701  0.019425  0.017980\n",
              "HP   0.105238  0.066179 -0.006335  0.273184  0.016043  0.026323  0.002059\n",
              "MMM  0.008790  0.015933  0.018701  0.016043  0.025005  0.017243  0.015668\n",
              "NEU  0.023773  0.023774  0.019425  0.026323  0.017243  0.065940  0.015819\n",
              "UNH  0.003054  0.008257  0.017980  0.002059  0.015668  0.015819  0.029591"
            ]
          },
          "metadata": {
            "tags": []
          },
          "execution_count": 15
        }
      ]
    },
    {
      "cell_type": "code",
      "metadata": {
        "id": "sXsj81cz98jX",
        "colab": {
          "base_uri": "https://localhost:8080/"
        },
        "outputId": "d9de5d7b-dac9-4afc-c382-9024ae37e645"
      },
      "source": [
        "# Calculate portfolio variance\n",
        "port_var = np.dot(weights.T, np.dot(port_cov, weights))\n",
        "port_var"
      ],
      "execution_count": 16,
      "outputs": [
        {
          "output_type": "execute_result",
          "data": {
            "text/plain": [
              "0.0297260666628749"
            ]
          },
          "metadata": {
            "tags": []
          },
          "execution_count": 16
        }
      ]
    },
    {
      "cell_type": "code",
      "metadata": {
        "colab": {
          "base_uri": "https://localhost:8080/"
        },
        "id": "0y9tTk9uudxP",
        "outputId": "9633016f-1f06-49e6-a79f-d94f11ee4d75"
      },
      "source": [
        "# Calculate Volatility\n",
        "port_vol = np.sqrt(port_var)\n",
        "port_vol"
      ],
      "execution_count": 17,
      "outputs": [
        {
          "output_type": "execute_result",
          "data": {
            "text/plain": [
              "0.17241248986913593"
            ]
          },
          "metadata": {
            "tags": []
          },
          "execution_count": 17
        }
      ]
    },
    {
      "cell_type": "code",
      "metadata": {
        "colab": {
          "base_uri": "https://localhost:8080/"
        },
        "id": "N9M9SKGEuiWT",
        "outputId": "e6b8b17b-4b12-4a51-bf4d-d1418d1ebd11"
      },
      "source": [
        "# Calculate annual portfolio return ) Weighted average returns\n",
        "portfolio_ret = np.sum(stock_returns.mean() * weights) * 252\n",
        "portfolio_ret"
      ],
      "execution_count": 19,
      "outputs": [
        {
          "output_type": "execute_result",
          "data": {
            "text/plain": [
              "0.23395927260614777"
            ]
          },
          "metadata": {
            "tags": []
          },
          "execution_count": 19
        }
      ]
    },
    {
      "cell_type": "code",
      "metadata": {
        "colab": {
          "base_uri": "https://localhost:8080/"
        },
        "id": "Ns9qlGyVupp_",
        "outputId": "7856e691-d5b8-4cc9-bd4e-0b7eeae3c9da"
      },
      "source": [
        "print(\" Portfolio Summary\")\n",
        "print(\"----------------------------\")\n",
        "#print(\"Assets: \", portfolio_df[:0])\n",
        "print('Annual Return: ', round(portfolio_ret, 2) * 100, '% / Volatility: ', round(port_vol, 2) * 100, '% / Variance: ', round(port_var, 2) * 100, '%')"
      ],
      "execution_count": 20,
      "outputs": [
        {
          "output_type": "stream",
          "text": [
            " Portfolio Summary\n",
            "----------------------------\n",
            "Annual Return:  23.0 % / Volatility:  17.0 % / Variance:  3.0 %\n"
          ],
          "name": "stdout"
        }
      ]
    },
    {
      "cell_type": "code",
      "metadata": {
        "colab": {
          "base_uri": "https://localhost:8080/"
        },
        "id": "EuUng0LouwR7",
        "outputId": "99b561f9-5b06-4648-a542-7e8106d36cfe"
      },
      "source": [
        "!pip install PyPortfolioOpt"
      ],
      "execution_count": 24,
      "outputs": [
        {
          "output_type": "stream",
          "text": [
            "Collecting PyPortfolioOpt\n",
            "  Downloading PyPortfolioOpt-1.4.2-py3-none-any.whl (60 kB)\n",
            "\u001b[?25l\r\u001b[K     |█████▍                          | 10 kB 22.2 MB/s eta 0:00:01\r\u001b[K     |██████████▉                     | 20 kB 25.1 MB/s eta 0:00:01\r\u001b[K     |████████████████▎               | 30 kB 15.2 MB/s eta 0:00:01\r\u001b[K     |█████████████████████▋          | 40 kB 11.8 MB/s eta 0:00:01\r\u001b[K     |███████████████████████████     | 51 kB 7.7 MB/s eta 0:00:01\r\u001b[K     |████████████████████████████████| 60 kB 3.3 MB/s \n",
            "\u001b[?25hRequirement already satisfied: numpy<2.0,>=1.12 in /usr/local/lib/python3.7/dist-packages (from PyPortfolioOpt) (1.19.5)\n",
            "Requirement already satisfied: pandas>=0.19 in /usr/local/lib/python3.7/dist-packages (from PyPortfolioOpt) (1.1.5)\n",
            "Collecting cvxpy<2.0.0,>=1.1.10\n",
            "  Downloading cvxpy-1.1.14-cp37-cp37m-manylinux_2_24_x86_64.whl (2.7 MB)\n",
            "\u001b[K     |████████████████████████████████| 2.7 MB 14.2 MB/s \n",
            "\u001b[?25hRequirement already satisfied: scipy<2.0,>=1.3 in /usr/local/lib/python3.7/dist-packages (from PyPortfolioOpt) (1.4.1)\n",
            "Requirement already satisfied: ecos>=2 in /usr/local/lib/python3.7/dist-packages (from cvxpy<2.0.0,>=1.1.10->PyPortfolioOpt) (2.0.7.post1)\n",
            "Requirement already satisfied: scs>=1.1.6 in /usr/local/lib/python3.7/dist-packages (from cvxpy<2.0.0,>=1.1.10->PyPortfolioOpt) (2.1.4)\n",
            "Requirement already satisfied: osqp>=0.4.1 in /usr/local/lib/python3.7/dist-packages (from cvxpy<2.0.0,>=1.1.10->PyPortfolioOpt) (0.6.2.post0)\n",
            "Requirement already satisfied: qdldl in /usr/local/lib/python3.7/dist-packages (from osqp>=0.4.1->cvxpy<2.0.0,>=1.1.10->PyPortfolioOpt) (0.1.5.post0)\n",
            "Requirement already satisfied: pytz>=2017.2 in /usr/local/lib/python3.7/dist-packages (from pandas>=0.19->PyPortfolioOpt) (2018.9)\n",
            "Requirement already satisfied: python-dateutil>=2.7.3 in /usr/local/lib/python3.7/dist-packages (from pandas>=0.19->PyPortfolioOpt) (2.8.1)\n",
            "Requirement already satisfied: six>=1.5 in /usr/local/lib/python3.7/dist-packages (from python-dateutil>=2.7.3->pandas>=0.19->PyPortfolioOpt) (1.15.0)\n",
            "Installing collected packages: cvxpy, PyPortfolioOpt\n",
            "  Attempting uninstall: cvxpy\n",
            "    Found existing installation: cvxpy 1.0.31\n",
            "    Uninstalling cvxpy-1.0.31:\n",
            "      Successfully uninstalled cvxpy-1.0.31\n",
            "Successfully installed PyPortfolioOpt-1.4.2 cvxpy-1.1.14\n"
          ],
          "name": "stdout"
        }
      ]
    },
    {
      "cell_type": "code",
      "metadata": {
        "id": "7WA59k6_w0AN"
      },
      "source": [
        "from pypfopt.efficient_frontier import EfficientFrontier\n",
        "from pypfopt import risk_models\n",
        "from pypfopt import expected_returns"
      ],
      "execution_count": 25,
      "outputs": []
    },
    {
      "cell_type": "markdown",
      "metadata": {
        "id": "rSRFAVfCw7HW"
      },
      "source": [
        "Portfolio Analysis: Optimization"
      ]
    },
    {
      "cell_type": "code",
      "metadata": {
        "id": "ySaM2wwgw8-C"
      },
      "source": [
        "mu = expected_returns.mean_historical_return(portfolio_df) # Expected return\n",
        "S = risk_models.sample_cov(portfolio_df) # Annaulized covariance matrix"
      ],
      "execution_count": 26,
      "outputs": []
    },
    {
      "cell_type": "code",
      "metadata": {
        "colab": {
          "base_uri": "https://localhost:8080/"
        },
        "id": "X2obGT5cxJC-",
        "outputId": "4ef2594a-0918-4373-9878-09982b2f6fef"
      },
      "source": [
        "# Efficient Frontier: Max Sharpe Ratio - amount of return for a given amount of volatility\n",
        "\n",
        "ef = EfficientFrontier(mu, S)\n",
        "weights = ef.max_sharpe()\n",
        "cleaned_weights = ef.clean_weights()\n",
        "print(cleaned_weights)\n",
        "ef.portfolio_performance(verbose=True)"
      ],
      "execution_count": 27,
      "outputs": [
        {
          "output_type": "stream",
          "text": [
            "OrderedDict([('BP', 0.0), ('GS', 0.5183), ('HD', 0.0), ('HP', 0.00238), ('MMM', 0.0), ('NEU', 0.0), ('UNH', 0.47931)])\n",
            "Expected annual return: 57.9%\n",
            "Annual volatility: 16.1%\n",
            "Sharpe Ratio: 3.48\n"
          ],
          "name": "stdout"
        },
        {
          "output_type": "execute_result",
          "data": {
            "text/plain": [
              "(0.5789041849458428, 0.16072604706714524, 3.4773715595229806)"
            ]
          },
          "metadata": {
            "tags": []
          },
          "execution_count": 27
        }
      ]
    },
    {
      "cell_type": "code",
      "metadata": {
        "id": "t_cwaKJkxM6t"
      },
      "source": [
        "import cvxpy as cp"
      ],
      "execution_count": 28,
      "outputs": []
    },
    {
      "cell_type": "code",
      "metadata": {
        "colab": {
          "base_uri": "https://localhost:8080/"
        },
        "id": "sqmo2887xP7T",
        "outputId": "4ab91d37-d3c7-4768-fe70-37536f0c2c92"
      },
      "source": [
        "# Rebalance portfolio, asset allocation\n",
        "\n",
        "from pypfopt.discrete_allocation import DiscreteAllocation, get_latest_prices\n",
        "latest_prices = get_latest_prices(portfolio_df)\n",
        "weights = cleaned_weights # rebalanced/optimized weights\n",
        "discrete_allocation = DiscreteAllocation(weights, latest_prices, total_portfolio_value = 50000)\n",
        "allocation, leftover = discrete_allocation.lp_portfolio()\n",
        "print(allocation)\n",
        "print('Funds Remaining: ${:.2f}'.format(leftover))"
      ],
      "execution_count": 29,
      "outputs": [
        {
          "output_type": "stream",
          "text": [
            "{'GS': 70, 'UNH': 60}\n",
            "Funds Remaining: $30.60\n"
          ],
          "name": "stdout"
        }
      ]
    },
    {
      "cell_type": "markdown",
      "metadata": {
        "id": "i5-TID7eymat"
      },
      "source": [
        "Optimal portfolio will have 70 shares of Goldman Sachs and 60 shares of United Healthcare; The efficient frontier shows a return of 57.9% and volatility of 16.1% with sharpe ratio of 3.48"
      ]
    },
    {
      "cell_type": "code",
      "metadata": {
        "id": "jmS7H_sXy-OL"
      },
      "source": [
        ""
      ],
      "execution_count": null,
      "outputs": []
    }
  ]
}